{
 "cells": [
  {
   "cell_type": "code",
   "execution_count": 2,
   "id": "2f437b88",
   "metadata": {},
   "outputs": [
    {
     "name": "stdout",
     "output_type": "stream",
     "text": [
      "3\n",
      "2\n"
     ]
    }
   ],
   "source": [
    "##1. Write a Python program to count the number 4 in a given list.  \n",
    "def list_count_4(nums):\n",
    "  count = 0  \n",
    "  for num in nums:\n",
    "    if num == 4:\n",
    "      count = count + 1\n",
    "\n",
    "  return count\n",
    "\n",
    "\n",
    "print(list_count_4([1, 4, 4,5,4,8]))\n",
    "print(list_count_4([1, 4, 0,1,1, 4]))\n"
   ]
  },
  {
   "cell_type": "code",
   "execution_count": 6,
   "id": "fd39c674",
   "metadata": {},
   "outputs": [
    {
     "name": "stdout",
     "output_type": "stream",
     "text": [
      "False\n",
      "True\n"
     ]
    }
   ],
   "source": [
    "##2. Write a Python program to test whether a passed letter is a vowel or not.  \n",
    "def is_vowel(char):\n",
    "    all_vowels = 'aeiou'\n",
    "    return char in all_vowels\n",
    "\n",
    "\n",
    "print(is_vowel('p'))\n",
    "print(is_vowel('i'))"
   ]
  },
  {
   "cell_type": "code",
   "execution_count": 15,
   "id": "f9ae2f86",
   "metadata": {},
   "outputs": [
    {
     "name": "stdout",
     "output_type": "stream",
     "text": [
      "True\n",
      "False\n"
     ]
    }
   ],
   "source": [
    "##3. Write a Python program to check whether a specified value is contained in a group of val\n",
    "\n",
    "def is_group_member(group_data, n):\n",
    "    for value in group_data:\n",
    "        if n == value:\n",
    "            return True\n",
    "    return False\n",
    "\n",
    "print(is_group_member([1, 5, 8, 3], 3))\n",
    "print(is_group_member([5, 8, 3],-2))"
   ]
  },
  {
   "cell_type": "code",
   "execution_count": 19,
   "id": "9fee911f",
   "metadata": {},
   "outputs": [
    {
     "name": "stdout",
     "output_type": "stream",
     "text": [
      "$$$$$$$\n",
      "$$$\n",
      "$$$$$$$$$$$$\n",
      "$$$$$\n"
     ]
    }
   ],
   "source": [
    "##4. Write a Python program to create a histogram from a given list of integers. \n",
    "def histogram( items ):\n",
    "    for n in items:\n",
    "        output = ''\n",
    "        times = n\n",
    "        while( times > 0 ):\n",
    "          output += '$'\n",
    "          times = times - 1\n",
    "        print(output)\n",
    "\n",
    "histogram([7, 3, 12, 5]) \n"
   ]
  },
  {
   "cell_type": "code",
   "execution_count": 21,
   "id": "f701acbb",
   "metadata": {},
   "outputs": [
    {
     "name": "stdout",
     "output_type": "stream",
     "text": [
      "95128\n"
     ]
    }
   ],
   "source": [
    "##5.Write a Python program to concatenate all elements in a list into a string and return it. \n",
    "\n",
    "def concatenate_list_data(list):\n",
    "    result= ''\n",
    "    for element in list:\n",
    "        result += str(element)\n",
    "    return result\n",
    "\n",
    "print(concatenate_list_data([9, 5, 12, 8]))\n"
   ]
  },
  {
   "cell_type": "code",
   "execution_count": 22,
   "id": "26ea42aa",
   "metadata": {},
   "outputs": [
    {
     "name": "stdout",
     "output_type": "stream",
     "text": [
      "Input the base : 5\n",
      "Input the height : 10\n",
      "area =  25.0\n"
     ]
    }
   ],
   "source": [
    "##6 Write a Python program that will accept the base and height of a triangle and compute the area. \n",
    "\n",
    "b = int(input(\"Input the base : \"))\n",
    "h = int(input(\"Input the height : \"))\n",
    "\n",
    "area = b*h/2\n",
    "\n",
    "print(\"area = \", area)\n"
   ]
  },
  {
   "cell_type": "code",
   "execution_count": 24,
   "id": "0d119ca7",
   "metadata": {},
   "outputs": [
    {
     "name": "stdout",
     "output_type": "stream",
     "text": [
      "0\n",
      "12\n",
      "0\n",
      "6\n",
      "0\n"
     ]
    }
   ],
   "source": [
    "##7. Write a Python program to sum of three given integers. However, if two values are equal sum will be zero. \n",
    "\n",
    "\n",
    "def sum(x, y, z):\n",
    "    if x == y or y == z or x==z:\n",
    "        sum = 0\n",
    "    else:\n",
    "        sum = x + y + z\n",
    "    return sum\n",
    "\n",
    "print(sum(2, 1, 2))\n",
    "print(sum(5, 4, 3))\n",
    "print(sum(2, 2, 2))\n",
    "print(sum(1, 2, 3)) \n",
    "print(sum(2, 2, 0)) \n"
   ]
  },
  {
   "cell_type": "code",
   "execution_count": 26,
   "id": "16d5982b",
   "metadata": {},
   "outputs": [
    {
     "name": "stdout",
     "output_type": "stream",
     "text": [
      "20\n",
      "12\n",
      "22\n",
      "20\n"
     ]
    }
   ],
   "source": [
    "##8. Write a Python program to sum of two given integers. However, if the sum is between 15 to 20 it will return 20.  \n",
    "def sum(x, y):\n",
    "    sum = x + y\n",
    "    if sum in range(15, 20):\n",
    "        return 20\n",
    "    else:\n",
    "        return sum\n",
    "\n",
    "print(sum(10, 6))\n",
    "print(sum(10, 2))\n",
    "print(sum(10, 12))\n",
    "print(sum(10, 7))"
   ]
  },
  {
   "cell_type": "code",
   "execution_count": 27,
   "id": "2ca61fb6",
   "metadata": {},
   "outputs": [
    {
     "name": "stdout",
     "output_type": "stream",
     "text": [
      "True\n",
      "True\n",
      "True\n"
     ]
    }
   ],
   "source": [
    "##9. Write a Python program that will return true if the two given integer values are equal or their sum or difference is 5.  \n",
    "def test_number5(x, y):\n",
    "    if x == y or abs(x-y) == 5 or (x+y) == 5:\n",
    "        return True\n",
    "    else:\n",
    "        return False\n",
    "\n",
    "print(test_number5(7, 2))\n",
    "print(test_number5(3, 2))\n",
    "print(test_number5(2, 2))\n"
   ]
  },
  {
   "cell_type": "code",
   "execution_count": 32,
   "id": "48433375",
   "metadata": {},
   "outputs": [
    {
     "name": "stdout",
     "output_type": "stream",
     "text": [
      "True\n",
      "False\n",
      "True\n"
     ]
    }
   ],
   "source": [
    "##9. Write a Python program that will return true if the two given integer values are equal or their sum or difference is 5.  \n",
    "def test_number5(x, y):\n",
    "    if x == y or (x-y) == 5 or (x+y) == 5:\n",
    "        return True\n",
    "    else:\n",
    "        return False\n",
    "\n",
    "print(test_number5(7, 2))\n",
    "print(test_number5(4, 2))\n",
    "print(test_number5(2, 2))\n"
   ]
  },
  {
   "cell_type": "code",
   "execution_count": 35,
   "id": "22cd6ce4",
   "metadata": {},
   "outputs": [
    {
     "name": "stdout",
     "output_type": "stream",
     "text": [
      "6.4031242374328485\n"
     ]
    }
   ],
   "source": [
    "##10. Write a Python program to compute the distance between the points (x1, y1) and (x2, y2).  \n",
    "\n",
    "import math\n",
    "p1 = [4, 1]\n",
    "p2 = [0, 6]\n",
    "distance = math.sqrt( ((p1[0]-p2[0])**2)+((p1[1]-p2[1])**2) )\n",
    "\n",
    "print(distance)"
   ]
  },
  {
   "cell_type": "code",
   "execution_count": null,
   "id": "15be3286",
   "metadata": {},
   "outputs": [],
   "source": []
  }
 ],
 "metadata": {
  "kernelspec": {
   "display_name": "Python 3 (ipykernel)",
   "language": "python",
   "name": "python3"
  },
  "language_info": {
   "codemirror_mode": {
    "name": "ipython",
    "version": 3
   },
   "file_extension": ".py",
   "mimetype": "text/x-python",
   "name": "python",
   "nbconvert_exporter": "python",
   "pygments_lexer": "ipython3",
   "version": "3.11.5"
  }
 },
 "nbformat": 4,
 "nbformat_minor": 5
}
