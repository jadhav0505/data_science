{
 "cells": [
  {
   "cell_type": "code",
   "execution_count": 5,
   "id": "04db1478",
   "metadata": {},
   "outputs": [
    {
     "name": "stdout",
     "output_type": "stream",
     "text": [
      "5\n"
     ]
    }
   ],
   "source": [
    "##1.What is the output of the following code?\n",
    "\n",
    "\n",
    "nums = set([1,1,3,3,3,4,4,5,5,5,5,5,2,2,])\n",
    "\n",
    "print(len(nums))\n"
   ]
  },
  {
   "cell_type": "code",
   "execution_count": 6,
   "id": "3f915b0f",
   "metadata": {},
   "outputs": [
    {
     "name": "stdout",
     "output_type": "stream",
     "text": [
      "['john', 'peter']\n"
     ]
    }
   ],
   "source": [
    "##2.What will be the output?\n",
    "\n",
    "d = {\"john\":40, \"peter\":45}\n",
    "\n",
    "print(list(d.keys()))\n"
   ]
  },
  {
   "cell_type": "code",
   "execution_count": 8,
   "id": "2685a819",
   "metadata": {},
   "outputs": [
    {
     "name": "stdout",
     "output_type": "stream",
     "text": [
      "5 is at position 1\n",
      "2 is at position 2\n",
      "3 is at position 3\n",
      "0 is at position 4\n",
      "9 is at position 5\n"
     ]
    }
   ],
   "source": [
    "##3. Write a for loop that prints all elements of a list and their position in the list.\n",
    "\n",
    "a = [5,2,3,0,9]\n",
    "for item in a:\n",
    "    print(str(item) + \" is at position \" + str(a.index(item) + 1))\n",
    "\n"
   ]
  },
  {
   "cell_type": "code",
   "execution_count": 11,
   "id": "eb041f73",
   "metadata": {},
   "outputs": [
    {
     "name": "stdout",
     "output_type": "stream",
     "text": [
      "Enter String like H1e2l3l4o5w6o7r8l9d means alphanumeric string which wil contain alternate alphabates and numbers:H1e2l3l4o5w6o7r8l9d\n",
      "Helloworld\n"
     ]
    }
   ],
   "source": [
    "##4.Please write a program which accepts a string from console and print the characters that have even indexes\n",
    "\n",
    "s=input(\"Enter String like H1e2l3l4o5w6o7r8l9d means alphanumeric string which wil contain alternate alphabates and numbers:\")\n",
    "s = s[::2]\n",
    "print(s)\n"
   ]
  },
  {
   "cell_type": "code",
   "execution_count": 13,
   "id": "0cdcf091",
   "metadata": {},
   "outputs": [
    {
     "name": "stdout",
     "output_type": "stream",
     "text": [
      "Enter string which you want to reverse:pavan\n",
      "navap\n"
     ]
    }
   ],
   "source": [
    "##5.Please write a program which accepts a string from console and print it in reverse order.\n",
    "s=input(\"Enter string which you want to reverse:\")\n",
    "s = s[::-1]\n",
    "print(s)\n",
    "\n"
   ]
  },
  {
   "cell_type": "code",
   "execution_count": 15,
   "id": "fcaa28be",
   "metadata": {},
   "outputs": [
    {
     "name": "stdout",
     "output_type": "stream",
     "text": [
      "Enter string:jadhav\n",
      "j,1\n",
      "a,2\n",
      "d,1\n",
      "h,1\n",
      "v,1\n"
     ]
    }
   ],
   "source": [
    "##6.Please write a program which count and print the numbers of each character in a string input by console.\n",
    "dic = {}\n",
    "s=input('Enter string:')\n",
    "for s in s:\n",
    "    dic[s] = dic.get(s,0)+1\n",
    "print('\\n'.join(['%s,%s' % (k, v) for k, v in dic.items()]))\n"
   ]
  },
  {
   "cell_type": "code",
   "execution_count": 16,
   "id": "ad28c743",
   "metadata": {},
   "outputs": [
    {
     "name": "stdout",
     "output_type": "stream",
     "text": [
      "[35]\n"
     ]
    }
   ],
   "source": [
    "##7.With two given lists [1,3,6,78,35,55] and [12,24,35,24,88,120,155], write a program to make a list whose elements are intersection of the above given lists.\n",
    "\n",
    "set1={1,3,6,78,35,55}\n",
    "set2={12,24,35,24,88,120,155}\n",
    "set1 &= set2\n",
    "li=list(set1)\n",
    "print(li)\n"
   ]
  },
  {
   "cell_type": "code",
   "execution_count": 18,
   "id": "82eef29c",
   "metadata": {},
   "outputs": [
    {
     "name": "stdout",
     "output_type": "stream",
     "text": [
      "[12, 35, 88, 120, 155]\n"
     ]
    }
   ],
   "source": [
    "##8.Write a program to print the list after removing the value 24 in [12,24,35,24,88,120,155].\n",
    "\n",
    "\n",
    "li = [12,24,35,24,88,120,155]\n",
    "\n",
    "li = [x for x in li if x!=24]\n",
    "\n",
    "print(li)\n"
   ]
  },
  {
   "cell_type": "code",
   "execution_count": 21,
   "id": "1b6bbeef",
   "metadata": {},
   "outputs": [
    {
     "name": "stdout",
     "output_type": "stream",
     "text": [
      "(0, 'bread')\n",
      "(1, 'milk')\n",
      "(2, 'butter')\n",
      "\n",
      "\n",
      "0 bread\n",
      "1 milk\n",
      "2 butter\n",
      "\n",
      "\n",
      "100 bread\n",
      "101 milk\n",
      "102 butter\n"
     ]
    }
   ],
   "source": [
    "##9.Write a program to print the list after removing the 0th,4th,5th numbers in [12,24,35,70,88,120,155].\n",
    "grocery = ['bread', 'milk', 'butter']\n",
    "\n",
    "for item in enumerate(grocery):\n",
    "  print(item)\n",
    "print('\\n')\n",
    "for count, item in enumerate(grocery):\n",
    "  print(count, item)\n",
    "\n",
    "print('\\n')\n",
    "for count, item in enumerate(grocery, 100):\n",
    "  print(count, item)\n",
    "\n"
   ]
  },
  {
   "cell_type": "code",
   "execution_count": 26,
   "id": "f312d578",
   "metadata": {},
   "outputs": [
    {
     "name": "stdout",
     "output_type": "stream",
     "text": [
      "Enter a number5\n",
      "3.5500000000000003\n"
     ]
    }
   ],
   "source": [
    "##10.Write a program to compute 1/2+2/3+3/4+...+n/n+1 with a given n input by console (n>0)\n",
    "\n",
    "n=int(input(\"Enter a number\"))\n",
    "sum=0.0\n",
    "for i in range(1,n+1):\n",
    "    sum += float(float(i)/(i+1))\n",
    "print(sum)\n"
   ]
  },
  {
   "cell_type": "code",
   "execution_count": null,
   "id": "a5b79e0a",
   "metadata": {},
   "outputs": [],
   "source": []
  }
 ],
 "metadata": {
  "kernelspec": {
   "display_name": "Python 3 (ipykernel)",
   "language": "python",
   "name": "python3"
  },
  "language_info": {
   "codemirror_mode": {
    "name": "ipython",
    "version": 3
   },
   "file_extension": ".py",
   "mimetype": "text/x-python",
   "name": "python",
   "nbconvert_exporter": "python",
   "pygments_lexer": "ipython3",
   "version": "3.11.5"
  }
 },
 "nbformat": 4,
 "nbformat_minor": 5
}
