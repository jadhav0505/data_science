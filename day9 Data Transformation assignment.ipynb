{
 "cells": [
  {
   "cell_type": "code",
   "execution_count": 8,
   "id": "b54d5570",
   "metadata": {},
   "outputs": [
    {
     "data": {
      "text/plain": [
       "array([1, 1, 0, 0, 1, 0, 0, 0, 1, 1, 0, 0, 1, 0, 0, 0, 0, 1, 1, 1, 0, 0,\n",
       "       0, 0, 0, 1, 1, 0, 1, 1, 1, 1, 1, 0, 0, 0, 0, 0, 1, 0, 0, 1, 1, 0,\n",
       "       0, 1, 0, 1, 0, 1, 0, 0, 0, 0, 1, 0, 1, 1, 0, 0, 1, 0, 0, 1, 0, 0,\n",
       "       0, 0, 0, 0, 0, 0, 0, 1, 0, 0, 1, 1, 0, 1, 1, 1, 0, 0, 0, 0, 0, 1,\n",
       "       0, 1, 1, 0, 1, 0, 1, 0, 1, 0, 0, 0], dtype=int64)"
      ]
     },
     "execution_count": 8,
     "metadata": {},
     "output_type": "execute_result"
    }
   ],
   "source": [
    "#1.Extract data from the given SalaryGender CSV file and store the data from each column in a separate NumPy array\n",
    "import numpy as np\n",
    "import pandas as pd\n",
    "import os \n",
    "import matplotlib.pyplot as plt\n",
    "\n",
    "\n",
    "os.getcwd()\n",
    "os.chdir ('C:\\\\Users\\\\Pavan Jadhav\\\\Desktop\\\\Python')\n",
    "\n",
    "os.getcwd()\n",
    "\n",
    "\n",
    "df = pd.read_csv('SalaryGender.csv')\n",
    "df\n",
    "\n",
    "\n",
    "salary = np.array(df['Salary'])\n",
    "salary\n",
    "\n",
    "\n",
    "gender = np.array(df['Gender'])\n",
    "gender\n",
    "\n",
    "\n",
    "age = np.array(df['Age'])\n",
    "age\n",
    "\n",
    "\n",
    "phd = np.array(df['PhD'])\n",
    "phd\n",
    "\n",
    "\n",
    "\n",
    "\n",
    "\n"
   ]
  },
  {
   "cell_type": "code",
   "execution_count": 10,
   "id": "71860a1c",
   "metadata": {},
   "outputs": [
    {
     "name": "stdout",
     "output_type": "stream",
     "text": [
      "Men Count 24\n",
      "Woman Count 15\n"
     ]
    }
   ],
   "source": [
    "#2.Find:\n",
    "\n",
    "#The number of men with a PhD\n",
    "\n",
    "#The number of women with a PhD\n",
    "\n",
    "df = pd.read_csv('SalaryGender.csv', delimiter=',')\n",
    "salary = np.array(df['Salary'])\n",
    "gender = np.array(df['Gender'])\n",
    "phd = np.array(df['PhD'])\n",
    "age = np.array(df['Age'])\n",
    "\n",
    "men_count = 0\n",
    "women_count = 0\n",
    "\n",
    "for i in range(0, 100):\n",
    "    if gender[i] == 1 and phd[i] == 1:\n",
    "        men_count +=1\n",
    "    if gender[i] == 0 and phd[i] == 1:\n",
    "        women_count +=1\n",
    "\n",
    "print('Men Count', men_count)\n",
    "print('Woman Count',women_count)\n",
    "\n",
    "\n",
    "\n"
   ]
  },
  {
   "cell_type": "code",
   "execution_count": 11,
   "id": "09397dda",
   "metadata": {},
   "outputs": [
    {
     "name": "stdout",
     "output_type": "stream",
     "text": [
      "Number of records 39\n",
      "    Age  PhD\n",
      "0    47    1\n",
      "1    65    1\n",
      "4    53    1\n",
      "8    44    1\n",
      "9    63    1\n",
      "12   60    1\n",
      "17   47    1\n",
      "18   66    1\n",
      "19   45    1\n",
      "25   66    1\n",
      "26   36    1\n",
      "28   51    1\n",
      "29   65    1\n",
      "30   45    1\n",
      "31   52    1\n",
      "32   54    1\n",
      "38   34    1\n",
      "41   58    1\n",
      "42   77    1\n",
      "45   48    1\n",
      "47   49    1\n",
      "49   65    1\n",
      "54   49    1\n",
      "56   61    1\n",
      "57   43    1\n",
      "60   66    1\n",
      "63   56    1\n",
      "73   71    1\n",
      "76   69    1\n",
      "77   58    1\n",
      "79   32    1\n",
      "80   33    1\n",
      "81   32    1\n",
      "87   42    1\n",
      "89   51    1\n",
      "90   71    1\n",
      "92   55    1\n",
      "94   55    1\n",
      "96   56    1\n"
     ]
    }
   ],
   "source": [
    "#3.Use SalaryGender CSV file. Store the “Age” and “PhD” columns in one DataFrame and delete the data of all people who don’t have a PhD\n",
    "\n",
    "df = pd.read_csv('SalaryGender.csv', delimiter=',')\n",
    "salary = np.array(df['Salary'])\n",
    "gender = np.array(df['Gender'])\n",
    "phd = np.array(df['PhD'])\n",
    "age = np.array(df['Age'])\n",
    "\n",
    "\n",
    "frame = pd.DataFrame()\n",
    "frame[\"Age\"] = age\n",
    "frame[\"PhD\"] = phd\n",
    "\n",
    "\n",
    "for i in range(0, 100):\n",
    "    if frame.loc[i][\"PhD\"] == 0:\n",
    "        frame = frame.drop(i)\n",
    "print('Number of records',len(frame))\n",
    "print(frame)\n",
    "\n"
   ]
  },
  {
   "cell_type": "code",
   "execution_count": 12,
   "id": "adbd2bd8",
   "metadata": {},
   "outputs": [
    {
     "name": "stdout",
     "output_type": "stream",
     "text": [
      "PhD Count: 39\n"
     ]
    }
   ],
   "source": [
    "#4.Calculate the total number of people who have a PhD degree from SalaryGender CSV file.\n",
    "\n",
    "\n",
    "\n",
    "df = pd.read_csv('SalaryGender.csv', delimiter=',')\n",
    "phdcount=0\n",
    "\n",
    "\n",
    "for i in range(0, 100):\n",
    "    if df.iloc[i]['PhD'] == 1:\n",
    "        phdcount=phdcount+1\n",
    "\n",
    "\n",
    "        \n",
    "print('PhD Count:',phdcount)\n",
    "\n",
    "\n",
    "\n"
   ]
  },
  {
   "cell_type": "code",
   "execution_count": 17,
   "id": "82a11ed1",
   "metadata": {},
   "outputs": [
    {
     "name": "stdout",
     "output_type": "stream",
     "text": [
      "[4 2 1 1 3 2 0 0 0 1]\n"
     ]
    }
   ],
   "source": [
    "#5.How do you Count The Number Of Times Each Value Appears In An Array Of Integers?\n",
    "\n",
    "#[0, 5, 4, 0, 4, 4, 3, 0, 0, 5, 2, 1, 1, 9]\n",
    "\n",
    "\n",
    "\n",
    "arr = np.array([0, 5, 4, 0, 4, 4, 3, 0, 0, 5, 2, 1, 1, 9])\n",
    "\n",
    "\n",
    "print(np.bincount(arr))\n"
   ]
  },
  {
   "cell_type": "code",
   "execution_count": 18,
   "id": "e4760ef9",
   "metadata": {},
   "outputs": [
    {
     "name": "stdout",
     "output_type": "stream",
     "text": [
      "Our array is:\n",
      "[[ 0  1  2]\n",
      " [ 3  4  5]\n",
      " [ 6  7  8]\n",
      " [ 9 10 11]]\n",
      "\n",
      "\n",
      "The items greater than 5 are:\n",
      "[ 6  7  8  9 10 11]\n"
     ]
    }
   ],
   "source": [
    "#6.Create a numpy array [[0, 1, 2], [ 3, 4, 5], [ 6, 7, 8],[ 9, 10, 11]]) and filter the elements greater than 5.\n",
    "\n",
    "import numpy as np\n",
    "x = np.array([[ 0,  1,  2],[ 3,  4,  5],[ 6,  7,  8],[ 9, 10, 11]])\n",
    "print('Our array is:' )\n",
    "print(x)\n",
    "print('\\n')\n",
    "\n",
    "\n",
    "# Now we will print the items greater than 5\n",
    "print('The items greater than 5 are:' )\n",
    "\n",
    "\n",
    "print(x[x > 5])\n",
    "\n",
    "\n"
   ]
  },
  {
   "cell_type": "code",
   "execution_count": 19,
   "id": "fb5fe221",
   "metadata": {},
   "outputs": [
    {
     "name": "stdout",
     "output_type": "stream",
     "text": [
      "[nan  1.  2. nan  3.  4.  5.]\n",
      "[1. 2. 3. 4. 5.]\n"
     ]
    }
   ],
   "source": [
    "#7.Create a numpy array having NaN (Not a Number) and print it.\n",
    "\n",
    "#array([ nan, 1., 2., nan, 3., 4., 5.])\n",
    "\n",
    "#Print the same array omitting all elements which are nan\n",
    "\n",
    "import numpy\n",
    "a = numpy.array([numpy.nan, 1,2,numpy.nan,3,4,5])\n",
    "print(a)\n",
    "print(a[~numpy.isnan(a)])\n"
   ]
  },
  {
   "cell_type": "code",
   "execution_count": 21,
   "id": "bc28eede",
   "metadata": {},
   "outputs": [
    {
     "name": "stdout",
     "output_type": "stream",
     "text": [
      "          0         1         2         3         4         5         6  \\\n",
      "0  0.307382  0.512457  0.533207  0.149744  0.759708  0.260707  0.414497   \n",
      "1  0.816325  0.624836  0.505880  0.922883  0.451090  0.892336  0.904939   \n",
      "2  0.945833  0.511767  0.862373  0.081670  0.058552  0.055477  0.185474   \n",
      "3  0.978448  0.906654  0.701079  0.831064  0.246766  0.398946  0.729343   \n",
      "4  0.900142  0.051809  0.722204  0.932898  0.344077  0.642874  0.567581   \n",
      "5  0.610679  0.581772  0.419017  0.407981  0.346451  0.937808  0.342265   \n",
      "6  0.340462  0.216230  0.165993  0.812920  0.996562  0.512375  0.776855   \n",
      "7  0.093878  0.881003  0.513449  0.833195  0.516894  0.323230  0.419199   \n",
      "8  0.865609  0.149096  0.883759  0.595084  0.545043  0.091926  0.621014   \n",
      "9  0.123709  0.536646  0.559151  0.567099  0.767170  0.022845  0.847590   \n",
      "\n",
      "          7         8         9  \n",
      "0  0.262928  0.863482  0.765563  \n",
      "1  0.712820  0.136735  0.025217  \n",
      "2  0.788899  0.520389  0.387834  \n",
      "3  0.088643  0.757965  0.073445  \n",
      "4  0.582303  0.247654  0.401748  \n",
      "5  0.902765  0.537301  0.033033  \n",
      "6  0.744677  0.741698  0.218947  \n",
      "7  0.898246  0.408680  0.563564  \n",
      "8  0.827029  0.385495  0.255521  \n",
      "9  0.622694  0.923635  0.204840  \n",
      "Min and Max Values\n",
      "0.022845407648385274 0.9965617061716208\n"
     ]
    }
   ],
   "source": [
    "#8.Create a 10x10 array with random values and find the minimum and maximum values.\n",
    "\n",
    "\n",
    "import numpy as np\n",
    "Z = np.random.random((10,10))\n",
    "print (pd.DataFrame(Z))\n",
    "\n",
    "\n",
    "\n",
    "\n",
    "Zmin, Zmax = Z.min(), Z.max()\n",
    "print ('Min and Max Values')\n",
    "print(Zmin, Zmax)\n"
   ]
  },
  {
   "cell_type": "code",
   "execution_count": 22,
   "id": "18ab3c8e",
   "metadata": {},
   "outputs": [
    {
     "name": "stdout",
     "output_type": "stream",
     "text": [
      "0.5238722171199232\n"
     ]
    }
   ],
   "source": [
    "#9.Create a random vector of size 30 and find the mean value.\n",
    "\n",
    "\n",
    "import numpy as np\n",
    "Z = np.random.random(30)\n",
    "m = Z.mean()\n",
    "print(m)\n"
   ]
  },
  {
   "cell_type": "code",
   "execution_count": 23,
   "id": "80498ce0",
   "metadata": {},
   "outputs": [
    {
     "name": "stdout",
     "output_type": "stream",
     "text": [
      "Array\n",
      "[ 0  1  2  3  4  5  6  7  8  9 10]\n",
      "Negeted Array\n",
      "[ 0  1  2  3 -4 -5 -6 -7 -8  9 10]\n"
     ]
    }
   ],
   "source": [
    "#10.Create numpy array having elements 0 to 10 And negate all the elements between 3 and 9\n",
    "\n",
    "\n",
    "import numpy as np\n",
    "Z = np.arange(11)\n",
    "print ('Array')\n",
    "print (Z)\n",
    "\n",
    "\n",
    "Z[(3 < Z) & (Z <= 8)] *= -1\n",
    "print ('Negeted Array')\n",
    "print(Z)\n",
    "\n"
   ]
  },
  {
   "cell_type": "code",
   "execution_count": 25,
   "id": "f23ad7ed",
   "metadata": {},
   "outputs": [
    {
     "name": "stdout",
     "output_type": "stream",
     "text": [
      "[[0 3 4]\n",
      " [2 4 9]\n",
      " [3 2 6]]\n",
      "\n",
      "[[3 2 6]\n",
      " [0 3 4]\n",
      " [2 4 9]]\n"
     ]
    }
   ],
   "source": [
    "#11.Create a random array of 3 rows and 3 columns and sort it according to 1st column, 2nd column or 3rd column.\n",
    "\n",
    "Z = np.random.randint(0,10,(3,3))\n",
    "print(Z)\n",
    "print ()\n",
    "\n",
    "\n",
    "print(Z[Z[:,1].argsort()])\n"
   ]
  },
  {
   "cell_type": "code",
   "execution_count": 28,
   "id": "fe69ed7a",
   "metadata": {},
   "outputs": [
    {
     "name": "stdout",
     "output_type": "stream",
     "text": [
      "Array\n",
      "[[[[4 9]\n",
      "   [4 3]]\n",
      "\n",
      "  [[7 1]\n",
      "   [5 4]]]\n",
      "\n",
      "\n",
      " [[[8 9]\n",
      "   [0 7]]\n",
      "\n",
      "  [[1 9]\n",
      "   [9 1]]]]\n",
      "Result\n",
      "[[20 17]\n",
      " [24 20]]\n"
     ]
    }
   ],
   "source": [
    "#12.Create a four dimensions array (2,2,2,2) get sum over the last two axis at once.\n",
    "\n",
    "\n",
    "\n",
    "A = np.random.randint(0,10,(2,2,2,2))\n",
    "print ('Array')\n",
    "print (A)\n",
    "\n",
    "\n",
    "sum = A.reshape(A.shape[:-2] + (-1,)).sum(axis=-1)\n",
    "print ('Result')\n",
    "print(sum)\n",
    "\n",
    "\n",
    "\n",
    "\n"
   ]
  },
  {
   "cell_type": "code",
   "execution_count": 30,
   "id": "edb7d3e5",
   "metadata": {},
   "outputs": [
    {
     "name": "stdout",
     "output_type": "stream",
     "text": [
      "Random Array\n",
      "[[ 0  1  2  3  4]\n",
      " [ 5  6  7  8  9]\n",
      " [10 11 12 13 14]\n",
      " [15 16 17 18 19]\n",
      " [20 21 22 23 24]]\n",
      "\n",
      "Swapped Array\n",
      "[[ 5  6  7  8  9]\n",
      " [ 0  1  2  3  4]\n",
      " [10 11 12 13 14]\n",
      " [15 16 17 18 19]\n",
      " [20 21 22 23 24]]\n"
     ]
    }
   ],
   "source": [
    "#13.Create a random array ( 5,5) and swap two rows of an array.\n",
    "\n",
    "A = np.arange(25).reshape(5,5)\n",
    "print ('Random Array')\n",
    "print (A)\n",
    "# First row assigned to Zeroth row and zero row assigned to first row\n",
    "\n",
    "\n",
    "A[[0,1]] = A[[1,0]]\n",
    "print ()\n",
    "print ('Swapped Array')\n",
    "print(A)\n"
   ]
  },
  {
   "cell_type": "code",
   "execution_count": null,
   "id": "6455bf4a",
   "metadata": {},
   "outputs": [],
   "source": []
  }
 ],
 "metadata": {
  "kernelspec": {
   "display_name": "Python 3 (ipykernel)",
   "language": "python",
   "name": "python3"
  },
  "language_info": {
   "codemirror_mode": {
    "name": "ipython",
    "version": 3
   },
   "file_extension": ".py",
   "mimetype": "text/x-python",
   "name": "python",
   "nbconvert_exporter": "python",
   "pygments_lexer": "ipython3",
   "version": "3.11.5"
  }
 },
 "nbformat": 4,
 "nbformat_minor": 5
}
