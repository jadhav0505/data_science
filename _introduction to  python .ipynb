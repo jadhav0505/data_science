{
 "cells": [
  {
   "cell_type": "code",
   "execution_count": 1,
   "id": "d5818a84",
   "metadata": {},
   "outputs": [
    {
     "name": "stdout",
     "output_type": "stream",
     "text": [
      "Python version\n",
      "3.11.5 | packaged by Anaconda, Inc. | (main, Sep 11 2023, 13:26:23) [MSC v.1916 64 bit (AMD64)]\n",
      "Version info.\n",
      "sys.version_info(major=3, minor=11, micro=5, releaselevel='final', serial=0)\n",
      "\n",
      "Please wait a moment while I gather a list of all available modules...\n",
      "\n"
     ]
    },
    {
     "name": "stderr",
     "output_type": "stream",
     "text": [
      "WARNING: AstropyDeprecationWarning: The private astropy._erfa module has been made into its own package, pyerfa, which is a dependency of astropy and can be imported directly using \"import erfa\" [astropy._erfa]\n",
      "C:\\Users\\Pavan Jadhav\\anaconda3\\Lib\\site-packages\\paramiko\\transport.py:219: CryptographyDeprecationWarning: Blowfish has been deprecated\n",
      "  \"class\": algorithms.Blowfish,\n",
      "C:\\Users\\Pavan Jadhav\\anaconda3\\Lib\\site-packages\\nltk\\twitter\\__init__.py:20: UserWarning: The twython library has not been installed. Some functionality from the twitter package will not be available.\n",
      "  warnings.warn(\n",
      "C:\\Users\\Pavan Jadhav\\anaconda3\\Lib\\pkgutil.py:92: NumbaPendingDeprecationWarning: \u001b[1mThe 'pycc' module is pending deprecation. Replacement technology is being developed.\n",
      "\n",
      "Pending Deprecation in Numba 0.57.0. For more information please see: https://numba.readthedocs.io/en/stable/reference/deprecation.html#deprecation-of-the-numba-pycc-module\u001b[0m\n",
      "  __import__(info.name)\n",
      "C:\\Users\\Pavan Jadhav\\anaconda3\\Lib\\pkgutil.py:92: UserWarning: The numpy.array_api submodule is still experimental. See NEP 47.\n",
      "  __import__(info.name)\n",
      "C:\\Users\\Pavan Jadhav\\anaconda3\\Lib\\site-packages\\_distutils_hack\\__init__.py:33: UserWarning: Setuptools is replacing distutils.\n",
      "  warnings.warn(\"Setuptools is replacing distutils.\")\n",
      "No QCoreApplication instance found. Application patches not applied. You have to call load_stylesheet function after instantiation of QApplication to take effect. \n",
      "None of PyTorch, TensorFlow >= 2.0, or Flax have been found. Models won't be available and only tokenizers, configuration and file/data utilities can be used.\n",
      "C:\\Users\\Pavan Jadhav\\anaconda3\\Lib\\pkgutil.py:107: VisibleDeprecationWarning:\n",
      "\n",
      "zmq.eventloop.minitornado is deprecated in pyzmq 14.0 and will be removed.\n",
      "    Install tornado itself to use zmq with the tornado IOLoop.\n",
      "    \n",
      "\n"
     ]
    },
    {
     "name": "stdout",
     "output_type": "stream",
     "text": [
      "IPython             concurrent          mdurl               smtplib\n",
      "OpenSSL             conda               menuinst            snappy\n",
      "PIL                 conda_build         mimetypes           sndhdr\n",
      "PyQt5               conda_content_trust mistune             sniffio\n",
      "TBB                 conda_env           mkl                 snowballstemmer\n",
      "__future__          conda_index         mkl_fft             socket\n",
      "__hello__           conda_libmamba_solver mmap                socketserver\n",
      "__phello__          conda_pack          mmapfile            socks\n",
      "_abc                conda_package_handling mmsystem            sockshandler\n",
      "_aix_support        conda_package_streaming modulefinder        sortedcontainers\n",
      "_argon2_cffi_bindings conda_token         more_itertools      soupsieve\n",
      "_ast                conda_verify        mpmath              sphinx\n",
      "_asyncio            configparser        msgpack             spyder\n",
      "_bisect             constantly          msilib              spyder_kernels\n",
      "_black_version      contextlib          msvcrt              sqlalchemy\n",
      "_blake2             contextvars         multidict           sqlite3\n",
      "_bootsubprocess     contourpy           multipledispatch    sre_compile\n",
      "_bz2                cookiecutter        multiprocess        sre_constants\n",
      "_cffi_backend       copy                multiprocessing     sre_parse\n",
      "_codecs             copyreg             munkres             ssl\n",
      "_codecs_cn          cpuinfo             mypy_extensions     sspi\n",
      "_codecs_hk          crypt               nacl                sspicon\n",
      "_codecs_iso2022     cryptography        navigator_updater   stack_data\n",
      "_codecs_jp          cssselect           nbclassic           stat\n",
      "_codecs_kr          csv                 nbclient            statistics\n",
      "_codecs_tw          ctypes              nbconvert           statsmodels\n",
      "_collections        curl                nbformat            string\n",
      "_collections_abc    curses              nest_asyncio        stringprep\n",
      "_compat_pickle      cwp                 netbios             struct\n",
      "_compression        cycler              netrc               subprocess\n",
      "_contextvars        cytoolz             networkx            sunau\n",
      "_csv                daal4py             nltk                sympy\n",
      "_ctypes             dask                nntplib             symtable\n",
      "_ctypes_test        dataclasses         notebook            sys\n",
      "_datetime           datasets            notebook_shim       sysconfig\n",
      "_decimal            datashader          nt                  tables\n",
      "_distutils_hack     datashape           ntpath              tabnanny\n",
      "_elementtree        datetime            ntsecuritycon       tabulate\n",
      "_functools          dateutil            nturl2path          tarfile\n",
      "_hashlib            dbi                 numba               tbb\n",
      "_heapq              dbm                 numbergen           tblib\n",
      "_imp                dde                 numbers             telnetlib\n",
      "_io                 debugpy             numexpr             tempfile\n",
      "_json               decimal             numpy               tenacity\n",
      "_locale             decorator           numpydoc            terminado\n",
      "_lsprof             defusedxml          odbc                test\n",
      "_lzma               diff_match_patch    onedal              test_pycosat\n",
      "_markupbase         difflib             opcode              text_unidecode\n",
      "_md5                dill                openpyxl            textdistance\n",
      "_msi                dis                 operator            textwrap\n",
      "_multibytecodec     distributed         optparse            this\n",
      "_multiprocess       distutils           os                  threading\n",
      "_multiprocessing    docstring_to_markdown packaging           threadpoolctl\n",
      "_nsis               doctest             pandas              three_merge\n",
      "_opcode             docutils            pandocfilters       tifffile\n",
      "_operator           dotenv              panel               time\n",
      "_osx_support        email               param               timeit\n",
      "_overlapped         encodings           paramiko            timer\n",
      "_pickle             ensurepip           parsel              tinycss2\n",
      "_plotly_future_     entrypoints         parso               tkinter\n",
      "_plotly_utils       enum                partd               tldextract\n",
      "_py_abc             erfa                past                tlz\n",
      "_pydecimal          errno               pathlib             token\n",
      "_pyio               et_xmlfile          pathspec            tokenize\n",
      "_pyrsistent_version executing           patsy               tokenizers\n",
      "_pytest             fastjsonschema      pdb                 toml\n",
      "_queue              faulthandler        pep8                tomlkit\n",
      "_random             filecmp             perfmon             tomllib\n",
      "_sha1               fileinput           pexpect             toolz\n",
      "_sha256             filelock            pickle              tornado\n",
      "_sha3               flake8              pickleshare         tqdm\n",
      "_sha512             flask               pickletools         trace\n",
      "_signal             fnmatch             pip                 traceback\n",
      "_sitebuiltins       fontTools           pipes               tracemalloc\n",
      "_socket             fractions           pkce                traitlets\n",
      "_sqlite3            frozenlist          pkg_resources       transformers\n",
      "_sre                fsspec              pkginfo             tty\n",
      "_ssl                ftplib              pkgutil             turtle\n",
      "_stat               functools           platform            turtledemo\n",
      "_statistics         future              platformdirs        twisted\n",
      "_string             gc                  plistlib            types\n",
      "_strptime           genericpath         plotly              typing\n",
      "_struct             gensim              pluggy              typing_extensions\n",
      "_symtable           getopt              ply                 tzdata\n",
      "_system_path        getpass             poplib              uc_micro\n",
      "_testbuffer         gettext             posixpath           ujson\n",
      "_testcapi           glob                poyo                unicodedata\n",
      "_testconsole        glob2               pprint              unidecode\n",
      "_testimportmultiple graphlib            profile             unittest\n",
      "_testinternalcapi   greenlet            prometheus_client   urllib\n",
      "_testmultiphase     gzip                prompt_toolkit      urllib3\n",
      "_thread             h5py                protego             uu\n",
      "_threading_local    hashlib             pstats              uuid\n",
      "_tkinter            heapdict            psutil              venv\n",
      "_tokenize           heapq               pty                 w3lib\n",
      "_tracemalloc        hmac                ptyprocess          warnings\n",
      "_typing             holoviews           pure_eval           watchdog\n",
      "_uuid               html                pvectorc            wave\n",
      "_warnings           http                py                  wcwidth\n",
      "_weakref            huggingface_hub     py_compile          weakref\n",
      "_weakrefset         hvplot              pyarrow             webbrowser\n",
      "_win32sysloader     hyperlink           pyasn1              webencodings\n",
      "_winapi             idlelib             pyasn1_modules      websocket\n",
      "_winxptheme         idna                pyclbr              werkzeug\n",
      "_xxsubinterpreters  imagecodecs         pycodestyle         whatthepatch\n",
      "_yaml               imageio             pycosat             wheel\n",
      "_zoneinfo           imagesize           pycparser           widgetsnbextension\n",
      "abc                 imaplib             pyct                win2kras\n",
      "adodbapi            imblearn            pycurl              win32api\n",
      "afxres              imghdr              pydantic            win32clipboard\n",
      "aifc                imp                 pydispatch          win32com\n",
      "aiobotocore         importlib           pydoc               win32con\n",
      "aiofiles            importlib_metadata  pydoc_data          win32console\n",
      "aiohttp             incremental         pydocstyle          win32cred\n",
      "aioitertools        inflection          pyexpat             win32crypt\n",
      "aiosignal           iniconfig           pyflakes            win32cryptcon\n",
      "aiosqlite           inspect             pygments            win32ctypes\n",
      "alabaster           intake              pylab               win32event\n",
      "anaconda_anon_usage intervaltree        pylint              win32evtlog\n",
      "anaconda_catalogs   io                  pylint_venv         win32evtlogutil\n",
      "anaconda_cloud_auth ipaddress           pyls_spyder         win32file\n",
      "anaconda_navigator  ipykernel           pylsp               win32gui\n",
      "anaconda_project    ipykernel_launcher  pylsp_black         win32gui_struct\n",
      "antigravity         ipython_genutils    pylsp_jsonrpc       win32help\n",
      "anyio               ipywidgets          pyodbc              win32inet\n",
      "appdirs             isapi               pyparsing           win32inetcon\n",
      "argon2              isort               pyrsistent          win32job\n",
      "argparse            isympy              pytest              win32lz\n",
      "array               itemadapter         pythoncom           win32net\n",
      "arrow               itemloaders         pythonjsonlogger    win32netcon\n",
      "ast                 itertools           pytoolconfig        win32pdh\n",
      "astroid             itsdangerous        pytz                win32pdhquery\n",
      "astropy             jedi                pyviz_comms         win32pdhutil\n",
      "asttokens           jellyfish           pywin               win32pipe\n",
      "async_timeout       jinja2              pywin32_bootstrap   win32print\n",
      "asynchat            jinja2_time         pywin32_testutil    win32process\n",
      "asyncio             jmespath            pywintypes          win32profile\n",
      "asyncore            joblib              pywt                win32ras\n",
      "atexit              json                qdarkstyle          win32rcparser\n",
      "atomicwrites        json5               qstylizer           win32security\n",
      "attr                jsonpatch           qtawesome           win32service\n",
      "attrs               jsonpointer         qtconsole           win32serviceutil\n",
      "audioop             jsonschema          qtpy                win32timezone\n",
      "automat             jupyter             queue               win32trace\n",
      "autopep8            jupyter_client      queuelib            win32traceutil\n",
      "babel               jupyter_console     quopri              win32transaction\n",
      "backcall            jupyter_core        random              win32ts\n",
      "backports           jupyter_events      rasutil             win32ui\n",
      "base64              jupyter_server      re                  win32uiole\n",
      "bcrypt              jupyter_server_fileid regcheck            win32verstamp\n",
      "bdb                 jupyter_server_ydoc regex               win32wnet\n",
      "binaryornot         jupyter_ydoc        regutil             win_inet_pton\n",
      "binascii            jupyterlab          repo_cli            winerror\n",
      "binstar_client      jupyterlab_plotly   reprlib             winioctlcon\n",
      "bisect              jupyterlab_pygments requests            winnt\n",
      "black               jupyterlab_server   requests_file       winperf\n",
      "blackd              jupyterlab_widgets  requests_toolbelt   winpty\n",
      "bleach              jwt                 responses           winreg\n",
      "blib2to3            kaleido             rfc3339_validator   winsound\n",
      "bokeh               keyring             rfc3986_validator   winxpgui\n",
      "boltons             keyword             rlcompleter         winxptheme\n",
      "botocore            kiwisolver          rope                wrapt\n",
      "bottleneck          lazy_loader         rtree               wsgiref\n",
      "brotli              lazy_object_proxy   ruamel_yaml         xarray\n",
      "bs4                 lib2to3             runpy               xdrlib\n",
      "builtins            libarchive          s3fs                xlwings\n",
      "bz2                 libfuturize         safetensors         xml\n",
      "cProfile            libmambapy          sched               xmlrpc\n",
      "calendar            libpasteurize       scipy               xxhash\n",
      "certifi             lief                scrapy              xxlimited\n",
      "cffi                linecache           seaborn             xxlimited_35\n",
      "cgi                 linkify_it          secrets             xxsubtype\n",
      "cgitb               llvmlite            select              xyzservices\n",
      "chardet             lmdb                selectors           y_py\n",
      "charset_normalizer  locale              send2trash          yaml\n",
      "chunk               locket              service_identity    yapf\n",
      "click               logging             servicemanager      yapftests\n",
      "cloudpickle         lxml                setuptools          yarl\n",
      "clyent              lz4                 shelve              ypy_websocket\n",
      "cmath               lzma                shlex               zict\n",
      "cmd                 mailbox             shutil              zipapp\n",
      "code                mailcap             signal              zipfile\n",
      "codecs              markdown            sipbuild            zipimport\n",
      "codeop              markdown_it         site                zipp\n",
      "collections         markupsafe          six                 zlib\n",
      "colorama            marshal             skimage             zmq\n",
      "colorcet            math                sklearn             zoneinfo\n",
      "colorsys            matplotlib          sklearnex           zope\n",
      "comm                matplotlib_inline   slugify             zstandard\n",
      "commctrl            mccabe              smart_open          \n",
      "compileall          mdit_py_plugins     smtpd               \n",
      "\n",
      "Enter any module name to get more help.  Or, type \"modules spam\" to search\n",
      "for modules whose name or summary contain the string \"spam\".\n",
      "\n"
     ]
    }
   ],
   "source": [
    "##1. Write a Python program to get the Python version you are using. \n",
    "import sys\n",
    "print(\"Python version\")\n",
    "print (sys.version)\n",
    "print(\"Version info.\")\n",
    "print (sys.version_info)\n",
    "\n",
    "\n",
    "help('modules')\n"
   ]
  },
  {
   "cell_type": "code",
   "execution_count": 2,
   "id": "a43768da",
   "metadata": {},
   "outputs": [
    {
     "name": "stdout",
     "output_type": "stream",
     "text": [
      "2024-01-28 14:44:36.204735\n"
     ]
    }
   ],
   "source": [
    "##2.Write a Python program to display the current date and time\n",
    "import datetime\n",
    "x=datetime.datetime.now()\n",
    "print(x)"
   ]
  },
  {
   "cell_type": "code",
   "execution_count": 3,
   "id": "9c594699",
   "metadata": {},
   "outputs": [
    {
     "name": "stdout",
     "output_type": "stream",
     "text": [
      "Current date and time : \n",
      "2024-01-28 14:45:27\n"
     ]
    }
   ],
   "source": [
    "import datetime\n",
    "now = datetime.datetime.now()\n",
    "print (\"Current date and time : \")\n",
    "print (now.strftime(\"%Y-%m-%d %H:%M:%S\"))\n"
   ]
  },
  {
   "cell_type": "code",
   "execution_count": 4,
   "id": "a8c72c2e",
   "metadata": {},
   "outputs": [
    {
     "name": "stdout",
     "output_type": "stream",
     "text": [
      "Input the radius of the circle : 4\n",
      "The area of the circle with radius 4.0 is: 50.26548245743669\n"
     ]
    }
   ],
   "source": [
    "##3. Write a Python program which accepts the radius of a circle from the user and compute the area\n",
    "from math import pi\n",
    "r = float(input (\"Input the radius of the circle : \"))\n",
    "print (\"The area of the circle with radius \" + str(r) + \" is: \" + str(pi * r**2))"
   ]
  },
  {
   "cell_type": "code",
   "execution_count": 5,
   "id": "1333a347",
   "metadata": {},
   "outputs": [
    {
     "name": "stdout",
     "output_type": "stream",
     "text": [
      "Input your First Name : Pavan\n",
      "Input your Last Name : Jadhav\n",
      "Hello  Jadhav Pavan\n"
     ]
    }
   ],
   "source": [
    "##4.Write a Python program which accepts the user's first and last name and print them in reverse order with a space between them \n",
    "fname = input(\"Input your First Name : \")\n",
    "lname = input(\"Input your Last Name : \")\n",
    "print (\"Hello  \" + lname + \" \" + fname)\n"
   ]
  },
  {
   "cell_type": "code",
   "execution_count": 6,
   "id": "744e1864",
   "metadata": {},
   "outputs": [
    {
     "name": "stdout",
     "output_type": "stream",
     "text": [
      "Input some comma separated numbers : 7,5,9,3\n",
      "List :  ['7', '5', '9', '3']\n",
      "Tuple :  ('7', '5', '9', '3')\n"
     ]
    }
   ],
   "source": [
    "##5.Write a Python program which accepts a sequence of comma-separated numbers from user and generate a list and a tuple with those numbers\n",
    "\n",
    "values = input(\"Input some comma separated numbers : \")\n",
    "list1 = values.split(\",\")\n",
    "tuple1 = tuple(list1)\n",
    "print('List : ',list1)\n",
    "print ('Tuple : ',tuple1)\n"
   ]
  },
  {
   "cell_type": "code",
   "execution_count": 9,
   "id": "58bcc7eb",
   "metadata": {},
   "outputs": [
    {
     "name": "stdout",
     "output_type": "stream",
     "text": [
      "['Hello', 'My name is Pavan Jadhav', 'I am from Sangli']\n"
     ]
    }
   ],
   "source": [
    "txt = \"Hello, My name is Pavan Jadhav, I am from Sangli\"\n",
    "\n",
    "x = txt.split(\", \")\n",
    "\n",
    "print(x)\n"
   ]
  },
  {
   "cell_type": "code",
   "execution_count": 11,
   "id": "a1163d8c",
   "metadata": {},
   "outputs": [
    {
     "name": "stdout",
     "output_type": "stream",
     "text": [
      "Input the Filename: sidhu.py\n",
      "The extension of the file is : 'py'\n"
     ]
    }
   ],
   "source": [
    "##6.Write a Python program to accept a filename from the user and print the extension of that. \n",
    "filename = input(\"Input the Filename: \")\n",
    "f_extns = filename.split(\".\")\n",
    "print (\"The extension of the file is : \" + repr(f_extns[-1]))\n"
   ]
  },
  {
   "cell_type": "code",
   "execution_count": 16,
   "id": "a79d29cd",
   "metadata": {},
   "outputs": [
    {
     "name": "stdout",
     "output_type": "stream",
     "text": [
      "Red Black\n"
     ]
    }
   ],
   "source": [
    "##7.Write a Python program to display the first and last colors from the following list. \n",
    "color_list = [\"Red\",\"Green\",\"White\" ,\"Black\"]\n",
    "\n",
    "\n",
    "color_list = [\"Red\",\"Green\",\"White\" ,\"Black\"]\n",
    "print( \"%s %s\"%(color_list[0],color_list[-1]))\n"
   ]
  },
  {
   "cell_type": "code",
   "execution_count": 19,
   "id": "625a2f52",
   "metadata": {},
   "outputs": [
    {
     "name": "stdout",
     "output_type": "stream",
     "text": [
      "Input an integer : 6\n",
      "738\n"
     ]
    }
   ],
   "source": [
    "##8.Write a Python program that accepts an integer (n) and computes the value of n+nn+nnn. \n",
    "a = int(input(\"Input an integer : \"))\n",
    "n1 = int( \"%s\" % a )\n",
    "n2 = int( \"%s%s\" % (a,a) )\n",
    "n3 = int( \"%s%s%s\" % (a,a,a) )\n",
    "print (n1+n2+n3)\n"
   ]
  },
  {
   "cell_type": "code",
   "execution_count": 28,
   "id": "488f0513",
   "metadata": {},
   "outputs": [
    {
     "name": "stdout",
     "output_type": "stream",
     "text": [
      "The volume of the sphere is:  905.142857142857\n"
     ]
    }
   ],
   "source": [
    "##9.Write a Python program to get the volume of a sphere with radius 6.\n",
    "\n",
    "pi = (22/7)\n",
    "pi\n",
    "r= 6.0\n",
    "V= 4.0/3.0*pi* r**3\n",
    "print('The volume of the sphere is: ',V)\n"
   ]
  },
  {
   "cell_type": "code",
   "execution_count": null,
   "id": "6c4e3480",
   "metadata": {},
   "outputs": [],
   "source": []
  },
  {
   "cell_type": "code",
   "execution_count": 30,
   "id": "53bffa71",
   "metadata": {},
   "outputs": [
    {
     "name": "stdout",
     "output_type": "stream",
     "text": [
      "Input time in seconds: 30000\n",
      "d:h:m:s-> 0 days :8 hours:20 minutes:0 seconds\n"
     ]
    }
   ],
   "source": [
    "##10. Write a Python program to convert seconds to day, hour, minutes and seconds.  \n",
    "time = float(input(\"Input time in seconds: \"))\n",
    "day = time // (24 * 3600)\n",
    "time = time % (24 * 3600)\n",
    "hour = time // 3600\n",
    "time %= 3600\n",
    "minutes = time // 60\n",
    "time %= 60\n",
    "seconds = time\n",
    "print(\"d:h:m:s-> %d days :%d hours:%d minutes:%d seconds\" % (day, hour, minutes, seconds))\n"
   ]
  },
  {
   "cell_type": "code",
   "execution_count": null,
   "id": "a5efb02f",
   "metadata": {},
   "outputs": [],
   "source": []
  }
 ],
 "metadata": {
  "kernelspec": {
   "display_name": "Python 3 (ipykernel)",
   "language": "python",
   "name": "python3"
  },
  "language_info": {
   "codemirror_mode": {
    "name": "ipython",
    "version": 3
   },
   "file_extension": ".py",
   "mimetype": "text/x-python",
   "name": "python",
   "nbconvert_exporter": "python",
   "pygments_lexer": "ipython3",
   "version": "3.12.1"
  }
 },
 "nbformat": 4,
 "nbformat_minor": 5
}
